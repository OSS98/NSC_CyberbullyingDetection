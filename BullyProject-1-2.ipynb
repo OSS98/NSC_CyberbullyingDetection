{
 "cells": [
  {
   "cell_type": "code",
   "execution_count": 18,
   "metadata": {
    "ExecuteTime": {
     "end_time": "2020-02-14T01:58:20.170639Z",
     "start_time": "2020-02-14T01:58:09.846112Z"
    },
    "scrolled": false
   },
   "outputs": [],
   "source": [
    "import pandas as pd\n",
    "import numpy as np\n",
    "from datetime import datetime\n",
    "import tweepy\n",
    "import tensorflow as tf\n",
    "from pythainlp import word_tokenize\n",
    "from pythainlp.corpus.common import thai_stopwords\n",
    "from sklearn.model_selection import train_test_split\n",
    "from keras.preprocessing.text import Tokenizer\n",
    "from keras.preprocessing.sequence import pad_sequences\n",
    "from keras.backend import clear_session"
   ]
  },
  {
   "cell_type": "code",
   "execution_count": 19,
   "metadata": {
    "ExecuteTime": {
     "end_time": "2020-02-14T01:58:20.209545Z",
     "start_time": "2020-02-14T01:58:20.178589Z"
    }
   },
   "outputs": [],
   "source": [
    "word = pd.read_csv('dict_file.csv')    \n",
    "    "
   ]
  },
  {
   "cell_type": "code",
   "execution_count": 20,
   "metadata": {
    "ExecuteTime": {
     "end_time": "2020-02-14T01:58:20.228516Z",
     "start_time": "2020-02-14T01:58:20.225464Z"
    }
   },
   "outputs": [],
   "source": [
    "# word"
   ]
  },
  {
   "cell_type": "code",
   "execution_count": 21,
   "metadata": {
    "ExecuteTime": {
     "end_time": "2020-02-14T01:58:21.380419Z",
     "start_time": "2020-02-14T01:58:20.240425Z"
    },
    "scrolled": false
   },
   "outputs": [],
   "source": [
    "Bully_model = tf.keras.models.load_model('model.h5')\n"
   ]
  },
  {
   "cell_type": "code",
   "execution_count": 22,
   "metadata": {
    "ExecuteTime": {
     "end_time": "2020-02-14T01:58:21.399079Z",
     "start_time": "2020-02-14T01:58:21.394090Z"
    }
   },
   "outputs": [],
   "source": [
    "consumer_key = 'V6WhIk4MThLDHOZffp5ePjhxb'\n",
    "consumer_secret_key = '0mBgQEhDmlCJYFiEuzv49bwauCKzvBHh7yg2ph5QksMNxHTaOQ'\n",
    "access_token ='1068771868545441792-EOVPlWn4Xhvcuwj47SfNTt7jiOibm5'\n",
    "access_secret = 'Y0TEsKGsPR4BDbW4QTLvMgQ5OrB41IhiVErqWIHu9oSPm'\n",
    "def OAuth():\n",
    "    try:\n",
    "        auth = tweepy.OAuthHandler(consumer_key , consumer_secret_key)\n",
    "        auth.set_access_token(access_token , access_secret)\n",
    "        return auth     \n",
    "    except Exception as e:\n",
    "        return none"
   ]
  },
  {
   "cell_type": "code",
   "execution_count": 23,
   "metadata": {
    "ExecuteTime": {
     "end_time": "2020-02-14T01:58:21.418213Z",
     "start_time": "2020-02-14T01:58:21.411018Z"
    }
   },
   "outputs": [],
   "source": [
    "def tweet(ynew,train):\n",
    "    if(ynew[0]==0):\n",
    "#         oauth = OAuth()\n",
    "#         api = tweepy.API(oauth)\n",
    "#         now = datetime.now()\n",
    "#         time = now.strftime(\"%b_%d_%Y_%H_%M_%S\")\n",
    "#         api.update_status(train+' #'+time)\n",
    "        output = 0\n",
    "    elif (ynew[0]==1):\n",
    "        output = 1 \n",
    "    elif (ynew[0]==2):\n",
    "        output = 2 \n",
    "    else:\n",
    "        output = 3     \n",
    "    return output"
   ]
  },
  {
   "cell_type": "code",
   "execution_count": 24,
   "metadata": {
    "ExecuteTime": {
     "end_time": "2020-02-14T01:58:21.436411Z",
     "start_time": "2020-02-14T01:58:21.429194Z"
    }
   },
   "outputs": [],
   "source": [
    "def getinput(train):\n",
    "    list_word = []\n",
    "    proc = word_tokenize(train, engine='newmm')\n",
    "    comment=0\n",
    "    comment = [words for words in proc if not words in set(thai_stopwords())]      \n",
    "    list_word.append(comment)\n",
    "    sequence = list()\n",
    "    for n in list_word:\n",
    "        sequenceTemp = list()\n",
    "        for w in n:\n",
    "            count=0\n",
    "            for x in word['Unnamed: 0']:\n",
    "                count=count+1\n",
    "                if x==w:\n",
    "                    sequenceTemp.append(count)\n",
    "        sequence.append(sequenceTemp)  \n",
    "    test = np.array(sequence)\n",
    "#     testX = pad_sequences(test, maxlen=18, padding=\"post\")\n",
    "    testX = pad_sequences(test, maxlen=175, padding=\"post\")\n",
    "    return testX"
   ]
  },
  {
   "cell_type": "code",
   "execution_count": null,
   "metadata": {
    "ExecuteTime": {
     "start_time": "2020-02-14T05:24:27.150Z"
    },
    "scrolled": true
   },
   "outputs": [
    {
     "name": "stdout",
     "output_type": "stream",
     "text": [
      " * Serving Flask app \"__main__\" (lazy loading)\n",
      " * Environment: production\n",
      "   WARNING: This is a development server. Do not use it in a production deployment.\n",
      "   Use a production WSGI server instead.\n",
      " * Debug mode: off\n"
     ]
    },
    {
     "name": "stderr",
     "output_type": "stream",
     "text": [
      " * Running on http://127.0.0.1:80/ (Press CTRL+C to quit)\n",
      "127.0.0.1 - - [29/Aug/2020 00:46:31] \"\u001b[37mGET / HTTP/1.1\u001b[0m\" 200 -\n",
      "127.0.0.1 - - [29/Aug/2020 00:46:31] \"\u001b[37mGET /static/video/1.mp4 HTTP/1.1\u001b[0m\" 206 -\n",
      "127.0.0.1 - - [29/Aug/2020 00:46:31] \"\u001b[37mGET /static/video/1.mp4 HTTP/1.1\u001b[0m\" 206 -\n",
      "127.0.0.1 - - [29/Aug/2020 00:46:32] \"\u001b[37mGET /input HTTP/1.1\u001b[0m\" 200 -\n",
      "127.0.0.1 - - [29/Aug/2020 00:46:32] \"\u001b[37mGET /static/video/1.mp4 HTTP/1.1\u001b[0m\" 206 -\n"
     ]
    },
    {
     "name": "stdout",
     "output_type": "stream",
     "text": [
      "WARNING:tensorflow:From <ipython-input-25-3f671ff59f5f>:18: Sequential.predict_classes (from tensorflow.python.keras.engine.sequential) is deprecated and will be removed after 2021-01-01.\n",
      "Instructions for updating:\n",
      "Please use instead:* `np.argmax(model.predict(x), axis=-1)`,   if your model does multi-class classification   (e.g. if it uses a `softmax` last-layer activation).* `(model.predict(x) > 0.5).astype(\"int32\")`,   if your model does binary classification   (e.g. if it uses a `sigmoid` last-layer activation).\n"
     ]
    },
    {
     "name": "stderr",
     "output_type": "stream",
     "text": [
      "127.0.0.1 - - [29/Aug/2020 00:46:38] \"\u001b[37mPOST /input HTTP/1.1\u001b[0m\" 200 -\n",
      "127.0.0.1 - - [29/Aug/2020 00:46:40] \"\u001b[37mGET /input HTTP/1.1\u001b[0m\" 200 -\n",
      "127.0.0.1 - - [29/Aug/2020 00:46:52] \"\u001b[37mGET /static/video/1.mp4 HTTP/1.1\u001b[0m\" 206 -\n",
      "127.0.0.1 - - [29/Aug/2020 00:46:56] \"\u001b[37mPOST /input HTTP/1.1\u001b[0m\" 200 -\n",
      "127.0.0.1 - - [29/Aug/2020 00:46:59] \"\u001b[37mGET /input HTTP/1.1\u001b[0m\" 200 -\n"
     ]
    }
   ],
   "source": [
    "from flask import Flask,request,render_template,url_for\n",
    "app = Flask(__name__) \n",
    "\n",
    "@app.route('/') \n",
    "def index():\n",
    "    return render_template('test.html')\n",
    "\n",
    "@app.route('/input') \n",
    "def inputword():\n",
    "    return render_template('input_bully.html')\n",
    "\n",
    "@app.route('/input',methods=['GET', 'POST']) \n",
    "def output_word():\n",
    "    \n",
    "    if request.method == 'POST': \n",
    "        bully = request.form.get('bully')\n",
    "        Testinput = getinput(bully)\n",
    "        output = Bully_model.predict_classes(Testinput)\n",
    "        y = tweet(output,bully)\n",
    "#         return render_template('output_bully.html',show=output)\n",
    "        if(y==0):\n",
    "            return render_template('output_bully.html',show=\"ไม่เป็นคำบูลลี่ ทวีตสำเร็จ(Normal)\")\n",
    "        \n",
    "        elif(y==1):\n",
    "            return render_template('output_bully.html',show=\"คำบูลลี่ประเภท การคุกคามและการป่วน(Harassment+Trolling)\")\n",
    "        \n",
    "        elif(y==2):\n",
    "            return render_template('output_bully.html',show=\"คำบูลลี่ประเภท การแฉ(Outing)หรือทำให้รู้สึกไม่มั่นใจ \")\n",
    "        \n",
    "        elif(y==3):\n",
    "            return render_template('output_bully.html',show=\"คำบูลลี่ประเภทที่ การถูกโดดเดี่ยวและการโพสต์เพื่อบั่นทอนศักดิ์ศรี(Exclusion+Dissing)\")\n",
    "\n",
    "if __name__ == '__main__':\n",
    "    app.run(debug=False, port=80) "
   ]
  },
  {
   "cell_type": "code",
   "execution_count": null,
   "metadata": {},
   "outputs": [],
   "source": []
  },
  {
   "cell_type": "code",
   "execution_count": null,
   "metadata": {},
   "outputs": [],
   "source": []
  }
 ],
 "metadata": {
  "kernelspec": {
   "display_name": "Python 3",
   "language": "python",
   "name": "python3"
  },
  "language_info": {
   "codemirror_mode": {
    "name": "ipython",
    "version": 3
   },
   "file_extension": ".py",
   "mimetype": "text/x-python",
   "name": "python",
   "nbconvert_exporter": "python",
   "pygments_lexer": "ipython3",
   "version": "3.8.5"
  },
  "toc": {
   "base_numbering": 1,
   "nav_menu": {},
   "number_sections": true,
   "sideBar": true,
   "skip_h1_title": false,
   "title_cell": "Table of Contents",
   "title_sidebar": "Contents",
   "toc_cell": false,
   "toc_position": {},
   "toc_section_display": true,
   "toc_window_display": false
  },
  "varInspector": {
   "cols": {
    "lenName": 16,
    "lenType": 16,
    "lenVar": 40
   },
   "kernels_config": {
    "python": {
     "delete_cmd_postfix": "",
     "delete_cmd_prefix": "del ",
     "library": "var_list.py",
     "varRefreshCmd": "print(var_dic_list())"
    },
    "r": {
     "delete_cmd_postfix": ") ",
     "delete_cmd_prefix": "rm(",
     "library": "var_list.r",
     "varRefreshCmd": "cat(var_dic_list()) "
    }
   },
   "types_to_exclude": [
    "module",
    "function",
    "builtin_function_or_method",
    "instance",
    "_Feature"
   ],
   "window_display": false
  }
 },
 "nbformat": 4,
 "nbformat_minor": 2
}
